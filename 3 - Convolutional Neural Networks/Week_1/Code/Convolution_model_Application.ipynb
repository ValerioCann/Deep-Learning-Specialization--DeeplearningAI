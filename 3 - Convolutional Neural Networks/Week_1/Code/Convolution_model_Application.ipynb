{
 "cells": [
  {
   "cell_type": "markdown",
   "metadata": {},
   "source": [
    "# Convolutional Neural Networks: Application\n",
    "\n",
    "Welcome to Course 4's second assignment! In this notebook, you will:\n",
    "\n",
    "- Create a mood classifer using the TF Keras Sequential API\n",
    "- Build a ConvNet to identify sign language digits using the TF Keras Functional API\n",
    "\n",
    "**After this assignment you will be able to:**\n",
    "\n",
    "- Build and train a ConvNet in TensorFlow for a __binary__ classification problem\n",
    "- Build and train a ConvNet in TensorFlow for a __multiclass__ classification problem\n",
    "- Explain different use cases for the Sequential and Functional APIs\n",
    "\n",
    "To complete this assignment, you should already be familiar with TensorFlow. If you are not, please refer back to the **TensorFlow Tutorial** of the third week of Course 2 (\"**Improving deep neural networks**\").\n",
    "\n",
    "## Important Note on Submission to the AutoGrader\n",
    "\n",
    "Before submitting your assignment to the AutoGrader, please make sure you are not doing the following:\n",
    "\n",
    "1. You have not added any _extra_ `print` statement(s) in the assignment.\n",
    "2. You have not added any _extra_ code cell(s) in the assignment.\n",
    "3. You have not changed any of the function parameters.\n",
    "4. You are not using any global variables inside your graded exercises. Unless specifically instructed to do so, please refrain from it and use the local variables instead.\n",
    "5. You are not changing the assignment code where it is not required, like creating _extra_ variables.\n",
    "\n",
    "If you do any of the following, you will get something like, `Grader Error: Grader feedback not found` (or similarly unexpected) error upon submitting your assignment. Before asking for help/debugging the errors in your assignment, check for these first. If this is the case, and you don't remember the changes you have made, you can get a fresh copy of the assignment by following these [instructions](https://www.coursera.org/learn/convolutional-neural-networks/supplement/DS4yP/h-ow-to-refresh-your-workspace)."
   ]
  },
  {
   "cell_type": "markdown",
   "metadata": {},
   "source": [
    "## Table of Contents\n",
    "\n",
    "- [1 - Packages](#1)\n",
    "    - [1.1 - Load the Data and Split the Data into Train/Test Sets](#1-1)\n",
    "- [2 - Layers in TF Keras](#2)\n",
    "- [3 - The Sequential API](#3)\n",
    "    - [3.1 - Create the Sequential Model](#3-1)\n",
    "        - [Exercise 1 - happyModel](#ex-1)\n",
    "    - [3.2 - Train and Evaluate the Model](#3-2)\n",
    "- [4 - The Functional API](#4)\n",
    "    - [4.1 - Load the SIGNS Dataset](#4-1)\n",
    "    - [4.2 - Split the Data into Train/Test Sets](#4-2)\n",
    "    - [4.3 - Forward Propagation](#4-3)\n",
    "        - [Exercise 2 - convolutional_model](#ex-2)\n",
    "    - [4.4 - Train the Model](#4-4)\n",
    "- [5 - History Object](#5)\n",
    "- [6 - Bibliography](#6)"
   ]
  },
  {
   "cell_type": "markdown",
   "metadata": {},
   "source": [
    "<a name='1'></a>\n",
    "## 1 - Packages\n",
    "\n",
    "As usual, begin by loading in the packages."
   ]
  },
  {
   "cell_type": "code",
   "execution_count": null,
   "metadata": {
    "deletable": false,
    "editable": false
   },
   "outputs": [],
   "source": [
    "### v1.1"
   ]
  },
  {
   "cell_type": "code",
   "execution_count": 1,
   "metadata": {},
   "outputs": [],
   "source": [
    "import math\n",
    "import numpy as np\n",
    "import h5py\n",
    "import matplotlib.pyplot as plt\n",
    "from matplotlib.pyplot import imread\n",
    "import scipy\n",
    "from PIL import Image\n",
    "import pandas as pd\n",
    "import tensorflow as tf\n",
    "import tensorflow.keras.layers as tfl\n",
    "from tensorflow.python.framework import ops\n",
    "from cnn_utils import *\n",
    "from test_utils import summary, comparator\n",
    "\n",
    "%matplotlib inline\n",
    "np.random.seed(1)"
   ]
  },
  {
   "cell_type": "markdown",
   "metadata": {},
   "source": [
    "<a name='1-1'></a>\n",
    "### 1.1 - Load the Data and Split the Data into Train/Test Sets\n",
    "\n",
    "You'll be using the Happy House dataset for this part of the assignment, which contains images of peoples' faces. Your task will be to build a ConvNet that determines whether the people in the images are smiling or not -- because they only get to enter the house if they're smiling!  "
   ]
  },
  {
   "cell_type": "code",
   "execution_count": 2,
   "metadata": {},
   "outputs": [
    {
     "name": "stdout",
     "output_type": "stream",
     "text": [
      "number of training examples = 600\n",
      "number of test examples = 150\n",
      "X_train shape: (600, 64, 64, 3)\n",
      "Y_train shape: (600, 1)\n",
      "X_test shape: (150, 64, 64, 3)\n",
      "Y_test shape: (150, 1)\n"
     ]
    }
   ],
   "source": [
    "X_train_orig, Y_train_orig, X_test_orig, Y_test_orig, classes = load_happy_dataset()\n",
    "\n",
    "# Normalize image vectors\n",
    "X_train = X_train_orig/255.\n",
    "X_test = X_test_orig/255.\n",
    "\n",
    "# Reshape\n",
    "Y_train = Y_train_orig.T\n",
    "Y_test = Y_test_orig.T\n",
    "\n",
    "print (\"number of training examples = \" + str(X_train.shape[0]))\n",
    "print (\"number of test examples = \" + str(X_test.shape[0]))\n",
    "print (\"X_train shape: \" + str(X_train.shape))\n",
    "print (\"Y_train shape: \" + str(Y_train.shape))\n",
    "print (\"X_test shape: \" + str(X_test.shape))\n",
    "print (\"Y_test shape: \" + str(Y_test.shape))"
   ]
  },
  {
   "cell_type": "markdown",
   "metadata": {},
   "source": [
    "You can display the images contained in the dataset. Images are **64x64** pixels in RGB format (3 channels)."
   ]
  },
  {
   "cell_type": "code",
   "execution_count": 3,
   "metadata": {},
   "outputs": [
    {
     "data": {
      "image/png": "[encoded data removed]",
      "text/plain": [
       "<Figure size 432x288 with 1 Axes>"
      ]
     },
     "metadata": {
      "needs_background": "light"
     },
     "output_type": "display_data"
    }
   ],
   "source": [
    "index = 124\n",
    "plt.imshow(X_train_orig[index]) #display sample training image\n",
    "plt.show()"
   ]
  },
  {
   "cell_type": "markdown",
   "metadata": {},
   "source": [
    "<a name='2'></a>\n",
    "## 2 - Layers in TF Keras \n",
    "\n",
    "In the previous assignment, you created layers manually in numpy. In TF Keras, you don't have to write code directly to create layers. Rather, TF Keras has pre-defined layers you can use. \n",
    "\n",
    "When you create a layer in TF Keras, you are creating a function that takes some input and transforms it into an output you can reuse later. Nice and easy! "
   ]
  },
  {
   "cell_type": "markdown",
   "metadata": {},
   "source": [
    "<a name='3'></a>\n",
    "## 3 - The Sequential API\n",
    "\n",
    "In the previous assignment, you built helper functions using `numpy` to understand the mechanics behind convolutional neural networks. Most practical applications of deep learning today are built using programming frameworks, which have many built-in functions you can simply call. Keras is a high-level abstraction built on top of TensorFlow, which allows for even more simplified and optimized model creation and training. \n",
    "\n",
    "For the first part of this assignment, you'll create a model using TF Keras' Sequential API, which allows you to build layer by layer, and is ideal for building models where each layer has **exactly one** input tensor and **one** output tensor. \n",
    "\n",
    "As you'll see, using the Sequential API is simple and straightforward, but is only appropriate for simpler, more straightforward tasks. Later in this notebook you'll spend some time building with a more flexible, powerful alternative: the Functional API. \n",
    " "
   ]
  },
  {
   "cell_type": "markdown",
   "metadata": {},
   "source": [
    "<a name='3-1'></a>\n",
    "### 3.1 - Create the Sequential Model\n",
    "\n",
    "As mentioned earlier, the TensorFlow Keras Sequential API can be used to build simple models with layer operations that proceed in a sequential order. \n",
    "\n",
    "You can also add layers incrementally to a Sequential model with the `.add()` method, or remove them using the `.pop()` method, much like you would in a regular Python list.\n",
    "\n",
    "Actually, you can think of a Sequential model as behaving like a list of layers. Like Python lists, Sequential layers are ordered, and the order in which they are specified matters.  If your model is non-linear or contains layers with multiple inputs or outputs, a Sequential model wouldn't be the right choice!\n",
    "\n",
    "For any layer construction in Keras, you'll need to specify the input shape in advance. This is because in Keras, the shape of the weights is based on the shape of the inputs. The weights are only created when the model first sees some input data. Sequential models can be created by passing a list of layers to the Sequential constructor, like you will do in the next assignment.\n",
    "\n",
    "<a name='ex-1'></a>\n",
    "### Exercise 1 - happyModel\n",
    "\n",
    "Implement the `happyModel` function below to build the following model: `ZEROPAD2D -> CONV2D -> BATCHNORM -> RELU -> MAXPOOL -> FLATTEN -> DENSE`. Take help from [tf.keras.layers](https://www.tensorflow.org/api_docs/python/tf/keras/layers) \n",
    "\n",
    "Also, plug in the following parameters for all the steps:\n",
    "\n",
    " - [ZeroPadding2D](https://www.tensorflow.org/api_docs/python/tf/keras/layers/ZeroPadding2D): padding 3, input shape 64 x 64 x 3\n",
    " - [Conv2D](https://www.tensorflow.org/api_docs/python/tf/keras/layers/Conv2D): Use 32 7x7 filters, stride 1\n",
    " - [BatchNormalization](https://www.tensorflow.org/api_docs/python/tf/keras/layers/BatchNormalization): for axis 3\n",
    " - [ReLU](https://www.tensorflow.org/api_docs/python/tf/keras/layers/ReLU)\n",
    " - [MaxPool2D](https://www.tensorflow.org/api_docs/python/tf/keras/layers/MaxPool2D): Using default parameters\n",
    " - [Flatten](https://www.tensorflow.org/api_docs/python/tf/keras/layers/Flatten) the previous output.\n",
    " - Fully-connected ([Dense](https://www.tensorflow.org/api_docs/python/tf/keras/layers/Dense)) layer: Apply a fully connected layer with 1 neuron and a sigmoid activation. \n",
    " \n",
    " \n",
    " **Hint:**\n",
    " \n",
    " Use **tfl** as shorthand for **tensorflow.keras.layers**"
   ]
  },
  {
   "cell_type": "code",
   "execution_count": 21,
   "metadata": {
    "deletable": false,
    "nbgrader": {
     "cell_type": "code",
     "checksum": "95d28b191f257bdd5b70c7b8952559d5",
     "grade": false,
     "grade_id": "cell-0e56d3fc28b69aec",
     "locked": false,
     "schema_version": 3,
     "solution": true,
     "task": false
    }
   },
   "outputs": [],
   "source": [
    "# GRADED FUNCTION: happyModel\n",
    "\n",
    "def happyModel():\n",
    "    \"\"\"\n",
    "    Implements the forward propagation for the binary classification model:\n",
    "    ZEROPAD2D -> CONV2D -> BATCHNORM -> RELU -> MAXPOOL -> FLATTEN -> DENSE\n",
    "    \n",
    "    Note that for simplicity and grading purposes, you'll hard-code all the values\n",
    "    such as the stride and kernel (filter) sizes. \n",
    "    Normally, functions should take these values as function parameters.\n",
    "    \n",
    "    Arguments:\n",
    "    None\n",
    "\n",
    "    Returns:\n",
    "    model -- TF Keras model (object containing the information for the entire training process) \n",
    "    \"\"\"\n",
    "    model = tf.keras.Sequential([\n",
    "            ## ZeroPadding2D with padding 3, input shape of 64 x 64 x 3\n",
    "            tfl.ZeroPadding2D(padding=3, input_shape=(64, 64, 3)),\n",
    "            ## Conv2D with 32 7x7 filters and stride of 1\n",
    "            tfl.Conv2D(filters=32, kernel_size=(7, 7), strides=1),\n",
    "            ## BatchNormalization for axis 3\n",
    "            tfl.BatchNormalization(axis=3),\n",
    "            ## ReLU\n",
    "            tfl.ReLU(),\n",
    "            ## Max Pooling 2D with default parameters\n",
    "            tfl.MaxPooling2D(),\n",
    "            ## Flatten layer\n",
    "            tfl.Flatten(),\n",
    "            ## Dense layer with 1 unit for output & 'sigmoid' activation\n",
    "            tfl.Dense(units=1, activation='sigmoid')\n",
    "            \n",
    "            \n",
    "            # YOUR CODE ENDS HERE\n",
    "        ])\n",
    "    \n",
    "    return model"
   ]
  },
  {
   "cell_type": "code",
   "execution_count": 22,
   "metadata": {
    "deletable": false,
    "editable": false,
    "nbgrader": {
     "cell_type": "code",
     "checksum": "8d3575c950e2e78149be2d05d671c80d",
     "grade": true,
     "grade_id": "cell-e3e1046e5c33d775",
     "locked": true,
     "points": 10,
     "schema_version": 3,
     "solution": false,
     "task": false
    }
   },
   "outputs": [
    {
     "name": "stdout",
     "output_type": "stream",
     "text": [
      "['ZeroPadding2D', (None, 70, 70, 3), 0, ((3, 3), (3, 3))]\n",
      "['Conv2D', (None, 64, 64, 32), 4736, 'valid', 'linear', 'GlorotUniform']\n",
      "['BatchNormalization', (None, 64, 64, 32), 128]\n",
      "['ReLU', (None, 64, 64, 32), 0]\n",
      "['MaxPooling2D', (None, 32, 32, 32), 0, (2, 2), (2, 2), 'valid']\n",
      "['Flatten', (None, 32768), 0]\n",
      "['Dense', (None, 1), 32769, 'sigmoid']\n",
      "\u001b[32mAll tests passed!\u001b[0m\n"
     ]
    }
   ],
   "source": [
    "happy_model = happyModel()\n",
    "# Print a summary for each layer\n",
    "for layer in summary(happy_model):\n",
    "    print(layer)\n",
    "    \n",
    "output = [['ZeroPadding2D', (None, 70, 70, 3), 0, ((3, 3), (3, 3))],\n",
    "            ['Conv2D', (None, 64, 64, 32), 4736, 'valid', 'linear', 'GlorotUniform'],\n",
    "            ['BatchNormalization', (None, 64, 64, 32), 128],\n",
    "            ['ReLU', (None, 64, 64, 32), 0],\n",
    "            ['MaxPooling2D', (None, 32, 32, 32), 0, (2, 2), (2, 2), 'valid'],\n",
    "            ['Flatten', (None, 32768), 0],\n",
    "            ['Dense', (None, 1), 32769, 'sigmoid']]\n",
    "    \n",
    "comparator(summary(happy_model), output)"
   ]
  },
  {
   "cell_type": "markdown",
   "metadata": {},
   "source": [
    "#### Expected Output:\n",
    "\n",
    "```\n",
    "['ZeroPadding2D', (None, 70, 70, 3), 0, ((3, 3), (3, 3))]\n",
    "['Conv2D', (None, 64, 64, 32), 4736, 'valid', 'linear', 'GlorotUniform']\n",
    "['BatchNormalization', (None, 64, 64, 32), 128]\n",
    "['ReLU', (None, 64, 64, 32), 0]\n",
    "['MaxPooling2D', (None, 32, 32, 32), 0, (2, 2), (2, 2), 'valid']\n",
    "['Flatten', (None, 32768), 0]\n",
    "['Dense', (None, 1), 32769, 'sigmoid']\n",
    "All tests passed!\n",
    "```"
   ]
  },
  {
   "cell_type": "markdown",
   "metadata": {},
   "source": [
    "Now that your model is created, you can compile it for training with an optimizer and loss of your choice. When the string `accuracy` is specified as a metric, the type of accuracy used will be automatically converted based on the loss function used. This is one of the many optimizations built into TensorFlow that make your life easier! If you'd like to read more on how the compiler operates, check the docs [here](https://www.tensorflow.org/api_docs/python/tf/keras/Model#compile)."
   ]
  },
  {
   "cell_type": "code",
   "execution_count": 23,
   "metadata": {},
   "outputs": [],
   "source": [
    "happy_model.compile(optimizer='adam',\n",
    "                   loss='binary_crossentropy',\n",
    "                   metrics=['accuracy'])"
   ]
  },
  {
   "cell_type": "markdown",
   "metadata": {},
   "source": [
    "It's time to check your model's parameters with the `.summary()` method. This will display the types of layers you have, the shape of the outputs, and how many parameters are in each layer. "
   ]
  },
  {
   "cell_type": "code",
   "execution_count": 24,
   "metadata": {},
   "outputs": [
    {
     "name": "stdout",
     "output_type": "stream",
     "text": [
      "Model: \"sequential_6\"\n",
      "_________________________________________________________________\n",
      "Layer (type)                 Output Shape              Param #   \n",
      "=================================================================\n",
      "zero_padding2d_6 (ZeroPaddin (None, 70, 70, 3)         0         \n",
      "_________________________________________________________________\n",
      "conv2d_6 (Conv2D)            (None, 64, 64, 32)        4736      \n",
      "_________________________________________________________________\n",
      "batch_normalization_6 (Batch (None, 64, 64, 32)        128       \n",
      "_________________________________________________________________\n",
      "re_lu_6 (ReLU)               (None, 64, 64, 32)        0         \n",
      "_________________________________________________________________\n",
      "max_pooling2d_6 (MaxPooling2 (None, 32, 32, 32)        0         \n",
      "_________________________________________________________________\n",
      "flatten_6 (Flatten)          (None, 32768)             0         \n",
      "_________________________________________________________________\n",
      "dense_6 (Dense)              (None, 1)                 32769     \n",
      "=================================================================\n",
      "Total params: 37,633\n",
      "Trainable params: 37,569\n",
      "Non-trainable params: 64\n",
      "_________________________________________________________________\n"
     ]
    }
   ],
   "source": [
    "happy_model.summary()"
   ]
  },
  {
   "cell_type": "markdown",
   "metadata": {},
   "source": [
    "<a name='3-2'></a>\n",
    "### 3.2 - Train and Evaluate the Model\n",
    "\n",
    "After creating the model, compiling it with your choice of optimizer and loss function, and doing a sanity check on its contents, you are now ready to build! \n",
    "\n",
    "Simply call `.fit()` to train. That's it! No need for mini-batching, saving, or complex backpropagation computations. That's all been done for you, as you're using a TensorFlow dataset with the batches specified already. You do have the option to specify epoch number or minibatch size if you like (for example, in the case of an un-batched dataset)."
   ]
  },
  {
   "cell_type": "code",
   "execution_count": 25,
   "metadata": {},
   "outputs": [
    {
     "name": "stdout",
     "output_type": "stream",
     "text": [
      "Epoch 1/10\n",
      "38/38 [==============================] - 4s 102ms/step - loss: 1.0988 - accuracy: 0.7000\n",
      "Epoch 2/10\n",
      "38/38 [==============================] - 4s 95ms/step - loss: 0.2052 - accuracy: 0.9133\n",
      "Epoch 3/10\n",
      "38/38 [==============================] - 4s 95ms/step - loss: 0.2590 - accuracy: 0.9067 0s - loss: 0.2500 - accu\n",
      "Epoch 4/10\n",
      "38/38 [==============================] - 4s 95ms/step - loss: 0.1533 - accuracy: 0.9367\n",
      "Epoch 5/10\n",
      "38/38 [==============================] - 4s 97ms/step - loss: 0.0906 - accuracy: 0.9667\n",
      "Epoch 6/10\n",
      "38/38 [==============================] - 4s 95ms/step - loss: 0.0872 - accuracy: 0.9700\n",
      "Epoch 7/10\n",
      "38/38 [==============================] - 4s 95ms/step - loss: 0.0721 - accuracy: 0.9783\n",
      "Epoch 8/10\n",
      "38/38 [==============================] - 4s 95ms/step - loss: 0.0742 - accuracy: 0.9767\n",
      "Epoch 9/10\n",
      "38/38 [==============================] - 4s 97ms/step - loss: 0.0924 - accuracy: 0.9617\n",
      "Epoch 10/10\n",
      "38/38 [==============================] - 4s 94ms/step - loss: 0.1389 - accuracy: 0.9533\n"
     ]
    },
    {
     "data": {
      "text/plain": [
       "<tensorflow.python.keras.callbacks.History at 0x7f3ff0c8c610>"
      ]
     },
     "execution_count": 25,
     "metadata": {},
     "output_type": "execute_result"
    }
   ],
   "source": [
    "happy_model.fit(X_train, Y_train, epochs=10, batch_size=16)"
   ]
  },
  {
   "cell_type": "markdown",
   "metadata": {},
   "source": [
    "After that completes, just use `.evaluate()` to evaluate against your test set. This function will print the value of the loss function and the performance metrics specified during the compilation of the model. In this case, the `binary_crossentropy` and the `accuracy` respectively."
   ]
  },
  {
   "cell_type": "code",
   "execution_count": 26,
   "metadata": {},
   "outputs": [
    {
     "name": "stdout",
     "output_type": "stream",
     "text": [
      "5/5 [==============================] - 0s 40ms/step - loss: 0.1364 - accuracy: 0.9600\n"
     ]
    },
    {
     "data": {
      "text/plain": [
       "[0.13638296723365784, 0.9599999785423279]"
      ]
     },
     "execution_count": 26,
     "metadata": {},
     "output_type": "execute_result"
    }
   ],
   "source": [
    "happy_model.evaluate(X_test, Y_test)"
   ]
  },
  {
   "cell_type": "markdown",
   "metadata": {},
   "source": [
    "Easy, right? But what if you need to build a model with shared layers, branches, or multiple inputs and outputs? This is where Sequential, with its beautifully simple yet limited functionality, won't be able to help you. \n",
    "\n",
    "Next up: Enter the Functional API, your slightly more complex, highly flexible friend.  "
   ]
  },
  {
   "cell_type": "markdown",
   "metadata": {},
   "source": [
    "<a name='4'></a>\n",
    "## 4 - The Functional API"
   ]
  },
  {
   "cell_type": "markdown",
   "metadata": {},
   "source": [
    "Welcome to the second half of the assignment, where you'll use Keras' flexible [Functional API](https://www.tensorflow.org/guide/keras/functional) to build a ConvNet that can differentiate between 6 sign language digits. \n",
    "\n",
    "The Functional API can handle models with non-linear topology, shared layers, as well as layers with multiple inputs or outputs. Imagine that, where the Sequential API requires the model to move in a linear fashion through its layers, the Functional API allows much more flexibility. Where Sequential is a straight line, a Functional model is a graph, where the nodes of the layers can connect in many more ways than one. \n",
    "\n",
    "In the visual example below, the one possible direction of the movement Sequential model is shown in contrast to a skip connection, which is just one of the many ways a Functional model can be constructed. A skip connection, as you might have guessed, skips some layer in the network and feeds the output to a later layer in the network. Don't worry, you'll be spending more time with skip connections very soon! "
   ]
  },
  {
   "cell_type": "markdown",
   "metadata": {},
   "source": [
    "<img src=\"images/seq_vs_func.png\" style=\"width:350px;height:200px;\">"
   ]
  },
  {
   "cell_type": "markdown",
   "metadata": {},
   "source": [
    "<a name='4-1'></a>\n",
    "### 4.1 - Load the SIGNS Dataset\n",
    "\n",
    "As a reminder, the SIGNS dataset is a collection of 6 signs representing numbers from 0 to 5."
   ]
  },
  {
   "cell_type": "code",
   "execution_count": 27,
   "metadata": {},
   "outputs": [],
   "source": [
    "# Loading the data (signs)\n",
    "X_train_orig, Y_train_orig, X_test_orig, Y_test_orig, classes = load_signs_dataset()"
   ]
  },
  {
   "cell_type": "markdown",
   "metadata": {},
   "source": [
    "<img src=\"images/SIGNS.png\" style=\"width:800px;height:300px;\">\n",
    "\n",
    "The next cell will show you an example of a labelled image in the dataset. Feel free to change the value of `index` below and re-run to see different examples. "
   ]
  },
  {
   "cell_type": "code",
   "execution_count": 28,
   "metadata": {},
   "outputs": [
    {
     "name": "stdout",
     "output_type": "stream",
     "text": [
      "y = 4\n"
     ]
    },
    {
     "data": {
      "image/png": "[encoded data removed]",
      "text/plain": [
       "<Figure size 432x288 with 1 Axes>"
      ]
     },
     "metadata": {
      "needs_background": "light"
     },
     "output_type": "display_data"
    }
   ],
   "source": [
    "# Example of an image from the dataset\n",
    "index = 9\n",
    "plt.imshow(X_train_orig[index])\n",
    "print (\"y = \" + str(np.squeeze(Y_train_orig[:, index])))"
   ]
  },
  {
   "cell_type": "markdown",
   "metadata": {},
   "source": [
    "<a name='4-2'></a>\n",
    "### 4.2 - Split the Data into Train/Test Sets\n",
    "\n",
    "In Course 2, you built a fully-connected network for this dataset. But since this is an image dataset, it is more natural to apply a ConvNet to it.\n",
    "\n",
    "To get started, let's examine the shapes of your data. "
   ]
  },
  {
   "cell_type": "code",
   "execution_count": 29,
   "metadata": {},
   "outputs": [
    {
     "name": "stdout",
     "output_type": "stream",
     "text": [
      "number of training examples = 1080\n",
      "number of test examples = 120\n",
      "X_train shape: (1080, 64, 64, 3)\n",
      "Y_train shape: (1080, 6)\n",
      "X_test shape: (120, 64, 64, 3)\n",
      "Y_test shape: (120, 6)\n"
     ]
    }
   ],
   "source": [
    "X_train = X_train_orig/255.\n",
    "X_test = X_test_orig/255.\n",
    "Y_train = convert_to_one_hot(Y_train_orig, 6).T\n",
    "Y_test = convert_to_one_hot(Y_test_orig, 6).T\n",
    "print (\"number of training examples = \" + str(X_train.shape[0]))\n",
    "print (\"number of test examples = \" + str(X_test.shape[0]))\n",
    "print (\"X_train shape: \" + str(X_train.shape))\n",
    "print (\"Y_train shape: \" + str(Y_train.shape))\n",
    "print (\"X_test shape: \" + str(X_test.shape))\n",
    "print (\"Y_test shape: \" + str(Y_test.shape))"
   ]
  },
  {
   "cell_type": "markdown",
   "metadata": {},
   "source": [
    "<a name='4-3'></a>\n",
    "### 4.3 - Forward Propagation\n",
    "\n",
    "In TensorFlow, there are built-in functions that implement the convolution steps for you. By now, you should be familiar with how TensorFlow builds computational graphs. In the [Functional API](https://www.tensorflow.org/guide/keras/functional), you create a graph of layers. This is what allows such great flexibility.\n",
    "\n",
    "However, the following model could also be defined using the Sequential API since the information flow is on a single line. But don't deviate. What we want you to learn is to use the functional API.\n",
    "\n",
    "Begin building your graph of layers by creating an input node that functions as a callable object:\n",
    "\n",
    "- **input_img = tf.keras.Input(shape=input_shape):** \n",
    "\n",
    "Then, create a new node in the graph of layers by calling a layer on the `input_img` object: \n",
    "\n",
    "- **tf.keras.layers.Conv2D(filters= ... , kernel_size= ... , padding='same')(input_img):** Read the full documentation on [Conv2D](https://www.tensorflow.org/api_docs/python/tf/keras/layers/Conv2D).\n",
    "\n",
    "- **tf.keras.layers.MaxPool2D(pool_size=(f, f), strides=(s, s), padding='same'):** `MaxPool2D()` downsamples your input using a window of size (f, f) and strides of size (s, s) to carry out max pooling over each window.  For max pooling, you usually operate on a single example at a time and a single channel at a time. Read the full documentation on [MaxPool2D](https://www.tensorflow.org/api_docs/python/tf/keras/layers/MaxPool2D).\n",
    "\n",
    "- **tf.keras.layers.ReLU():** computes the elementwise ReLU of Z (which can be any shape). You can read the full documentation on [ReLU](https://www.tensorflow.org/api_docs/python/tf/keras/layers/ReLU).\n",
    "\n",
    "- **tf.keras.layers.Flatten()**: given a tensor \"P\", this function takes each training (or test) example in the batch and flattens it into a 1D vector.  \n",
    "\n",
    "    * If a tensor P has the shape (batch_size,h,w,c), it returns a flattened tensor with shape (batch_size, k), where $k=h \\times w \\times c$.  \"k\" equals the product of all the dimension sizes other than the first dimension.\n",
    "    \n",
    "    * For example, given a tensor with dimensions [100, 2, 3, 4], it flattens the tensor to be of shape [100, 24], where 24 = 2 * 3 * 4.  You can read the full documentation on [Flatten](https://www.tensorflow.org/api_docs/python/tf/keras/layers/Flatten).\n",
    "\n",
    "- **tf.keras.layers.Dense(units= ... , activation='softmax')(F):** given the flattened input F, it returns the output computed using a fully connected layer. You can read the full documentation on [Dense](https://www.tensorflow.org/api_docs/python/tf/keras/layers/Dense).\n",
    "\n",
    "In the last function above (`tf.keras.layers.Dense()`), the fully connected layer automatically initializes weights in the graph and keeps on training them as you train the model. Hence, you did not need to initialize those weights when initializing the parameters.\n",
    "\n",
    "Lastly, before creating the model, you'll need to define the output using the last of the function's compositions (in this example, a Dense layer): \n",
    "\n",
    "- **outputs = tf.keras.layers.Dense(units=6, activation='softmax')(F)**\n",
    "\n",
    "\n",
    "#### Window, kernel, filter, pool\n",
    "\n",
    "The words \"kernel\" and \"filter\" are used to refer to the same thing. The word \"filter\" accounts for the amount of \"kernels\" that will be used in a single convolution layer. \"Pool\" is the name of the operation that takes the max or average value of the kernels. \n",
    "\n",
    "This is why the parameter `pool_size` refers to `kernel_size`, and you use `(f,f)` to refer to the filter size. \n",
    "\n",
    "Pool size and kernel size refer to the same thing in different objects - They refer to the shape of the window where the operation takes place. "
   ]
  },
  {
   "cell_type": "markdown",
   "metadata": {},
   "source": [
    "<a name='ex-2'></a>\n",
    "### Exercise 2 - convolutional_model\n",
    "\n",
    "Implement the `convolutional_model` function below to build the following model: `CONV2D -> RELU -> MAXPOOL -> CONV2D -> RELU -> MAXPOOL -> FLATTEN -> DENSE`. Use the functions above! \n",
    "\n",
    "Also, plug in the following parameters for all the steps:\n",
    "\n",
    " - [Conv2D](https://www.tensorflow.org/api_docs/python/tf/keras/layers/Conv2D): Use 8 4 by 4 filters, stride 1, padding is \"SAME\"\n",
    " - [ReLU](https://www.tensorflow.org/api_docs/python/tf/keras/layers/ReLU)\n",
    " - [MaxPool2D](https://www.tensorflow.org/api_docs/python/tf/keras/layers/MaxPool2D): Use an 8 by 8 filter size and an 8 by 8 stride, padding is \"SAME\"\n",
    " - **Conv2D**: Use 16 2 by 2 filters, stride 1, padding is \"SAME\"\n",
    " - **ReLU**\n",
    " - **MaxPool2D**: Use a 4 by 4 filter size and a 4 by 4 stride, padding is \"SAME\"\n",
    " - [Flatten](https://www.tensorflow.org/api_docs/python/tf/keras/layers/Flatten) the previous output.\n",
    " - Fully-connected ([Dense](https://www.tensorflow.org/api_docs/python/tf/keras/layers/Dense)) layer: Apply a fully connected layer with 6 neurons and a softmax activation. "
   ]
  },
  {
   "cell_type": "code",
   "execution_count": 36,
   "metadata": {
    "deletable": false,
    "nbgrader": {
     "cell_type": "code",
     "checksum": "f58643806aa8380c96225fc8b4c5e7aa",
     "grade": false,
     "grade_id": "cell-dac51744a9e03f51",
     "locked": false,
     "schema_version": 3,
     "solution": true,
     "task": false
    }
   },
   "outputs": [],
   "source": [
    "# GRADED FUNCTION: convolutional_model\n",
    "\n",
    "def convolutional_model(input_shape):\n",
    "    \"\"\"\n",
    "    Implements the forward propagation for the model:\n",
    "    CONV2D -> RELU -> MAXPOOL -> CONV2D -> RELU -> MAXPOOL -> FLATTEN -> DENSE\n",
    "    \n",
    "    Note that for simplicity and grading purposes, you'll hard-code some values\n",
    "    such as the stride and kernel (filter) sizes. \n",
    "    Normally, functions should take these values as function parameters.\n",
    "    \n",
    "    Arguments:\n",
    "    input_img -- input dataset, of shape (input_shape)\n",
    "\n",
    "    Returns:\n",
    "    model -- TF Keras model (object containing the information for the entire training process) \n",
    "    \"\"\"\n",
    "\n",
    "    input_img = tf.keras.Input(shape=input_shape)\n",
    "    ## CONV2D: 8 filters 4x4, stride of 1, padding 'SAME'\n",
    "    # Z1 = None\n",
    "    ## RELU\n",
    "    # A1 = None\n",
    "    ## MAXPOOL: window 8x8, stride 8, padding 'SAME'\n",
    "    # P1 = None\n",
    "    ## CONV2D: 16 filters 2x2, stride 1, padding 'SAME'\n",
    "    # Z2 = None\n",
    "    ## RELU\n",
    "    # A2 = None\n",
    "    ## MAXPOOL: window 4x4, stride 4, padding 'SAME'\n",
    "    # P2 = None\n",
    "    ## FLATTEN\n",
    "    # F = None\n",
    "    ## Dense layer\n",
    "    ## 6 neurons in output layer. Hint: one of the arguments should be \"activation='softmax'\" \n",
    "    # outputs = None\n",
    "    \n",
    "    # YOUR CODE STARTS HERE\n",
    "    Z1 = tfl.Conv2D(filters=8, kernel_size=(4, 4), strides=1, padding=\"SAME\")(input_img)\n",
    "    ## RELU\n",
    "    A1 = tfl.ReLU()(Z1)\n",
    "    ## MAXPOOL: window 8x8, stride 8, padding 'SAME'\n",
    "    P1 = tfl.MaxPool2D(pool_size=(8,8), strides=8, padding=\"SAME\")(A1)\n",
    "    ## CONV2D: 16 filters 2x2, stride 1, padding 'SAME'\n",
    "    Z2 = tfl.Conv2D(filters=16, kernel_size=(2, 2), strides=1, padding=\"SAME\")(P1)\n",
    "    ## RELU\n",
    "    A2 = tfl.ReLU()(Z2)\n",
    "    ## MAXPOOL: window 4x4, stride 4, padding 'SAME'\n",
    "    P2 = tfl.MaxPool2D(pool_size=(4,4), strides=4, padding=\"SAME\")(A2)\n",
    "    ## FLATTEN \n",
    "    F = tfl.Flatten()(P2)\n",
    "    ## Dense layer\n",
    "    ## 6 neurons in output layer. Hint: one of the arguments should be \"activation='softmax'\" \n",
    "    outputs = tfl.Dense(units=6, activation='softmax')(F)  \n",
    "    \n",
    "    # YOUR CODE ENDS HERE\n",
    "    model = tf.keras.Model(inputs=input_img, outputs=outputs)\n",
    "    return model"
   ]
  },
  {
   "cell_type": "code",
   "execution_count": 37,
   "metadata": {
    "deletable": false,
    "editable": false,
    "nbgrader": {
     "cell_type": "code",
     "checksum": "483d626949930a0b0ef20997e7c6ba72",
     "grade": true,
     "grade_id": "cell-45d22e92042174c9",
     "locked": true,
     "points": 10,
     "schema_version": 3,
     "solution": false,
     "task": false
    }
   },
   "outputs": [
    {
     "name": "stdout",
     "output_type": "stream",
     "text": [
      "Model: \"functional_4\"\n",
      "_________________________________________________________________\n",
      "Layer (type)                 Output Shape              Param #   \n",
      "=================================================================\n",
      "input_4 (InputLayer)         [(None, 64, 64, 3)]       0         \n",
      "_________________________________________________________________\n",
      "conv2d_12 (Conv2D)           (None, 64, 64, 8)         392       \n",
      "_________________________________________________________________\n",
      "re_lu_12 (ReLU)              (None, 64, 64, 8)         0         \n",
      "_________________________________________________________________\n",
      "max_pooling2d_11 (MaxPooling (None, 8, 8, 8)           0         \n",
      "_________________________________________________________________\n",
      "conv2d_13 (Conv2D)           (None, 8, 8, 16)          528       \n",
      "_________________________________________________________________\n",
      "re_lu_13 (ReLU)              (None, 8, 8, 16)          0         \n",
      "_________________________________________________________________\n",
      "max_pooling2d_12 (MaxPooling (None, 2, 2, 16)          0         \n",
      "_________________________________________________________________\n",
      "flatten_9 (Flatten)          (None, 64)                0         \n",
      "_________________________________________________________________\n",
      "dense_9 (Dense)              (None, 6)                 390       \n",
      "=================================================================\n",
      "Total params: 1,310\n",
      "Trainable params: 1,310\n",
      "Non-trainable params: 0\n",
      "_________________________________________________________________\n",
      "\u001b[32mAll tests passed!\u001b[0m\n"
     ]
    }
   ],
   "source": [
    "conv_model = convolutional_model((64, 64, 3))\n",
    "conv_model.compile(optimizer='adam',\n",
    "                  loss='categorical_crossentropy',\n",
    "                  metrics=['accuracy'])\n",
    "conv_model.summary()\n",
    "    \n",
    "output = [['InputLayer', [(None, 64, 64, 3)], 0],\n",
    "        ['Conv2D', (None, 64, 64, 8), 392, 'same', 'linear', 'GlorotUniform'],\n",
    "        ['ReLU', (None, 64, 64, 8), 0],\n",
    "        ['MaxPooling2D', (None, 8, 8, 8), 0, (8, 8), (8, 8), 'same'],\n",
    "        ['Conv2D', (None, 8, 8, 16), 528, 'same', 'linear', 'GlorotUniform'],\n",
    "        ['ReLU', (None, 8, 8, 16), 0],\n",
    "        ['MaxPooling2D', (None, 2, 2, 16), 0, (4, 4), (4, 4), 'same'],\n",
    "        ['Flatten', (None, 64), 0],\n",
    "        ['Dense', (None, 6), 390, 'softmax']]\n",
    "    \n",
    "comparator(summary(conv_model), output)"
   ]
  },
  {
   "cell_type": "markdown",
   "metadata": {},
   "source": [
    "Both the Sequential and Functional APIs return a TF Keras model object. The only difference is how inputs are handled inside the object model! "
   ]
  },
  {
   "cell_type": "markdown",
   "metadata": {},
   "source": [
    "<a name='4-4'></a>\n",
    "### 4.4 - Train the Model"
   ]
  },
  {
   "cell_type": "code",
   "execution_count": 38,
   "metadata": {},
   "outputs": [
    {
     "name": "stdout",
     "output_type": "stream",
     "text": [
      "Epoch 1/100\n",
      "17/17 [==============================] - 2s 106ms/step - loss: 1.8134 - accuracy: 0.1704 - val_loss: 1.7875 - val_accuracy: 0.1917\n",
      "Epoch 2/100\n",
      "17/17 [==============================] - 2s 105ms/step - loss: 1.7867 - accuracy: 0.1917 - val_loss: 1.7794 - val_accuracy: 0.2000\n",
      "Epoch 3/100\n",
      "17/17 [==============================] - 2s 101ms/step - loss: 1.7809 - accuracy: 0.2259 - val_loss: 1.7738 - val_accuracy: 0.2083\n",
      "Epoch 4/100\n",
      "17/17 [==============================] - 2s 106ms/step - loss: 1.7762 - accuracy: 0.2352 - val_loss: 1.7682 - val_accuracy: 0.2333\n",
      "Epoch 5/100\n",
      "17/17 [==============================] - 2s 105ms/step - loss: 1.7707 - accuracy: 0.2806 - val_loss: 1.7599 - val_accuracy: 0.3667\n",
      "Epoch 6/100\n",
      "17/17 [==============================] - 2s 106ms/step - loss: 1.7629 - accuracy: 0.2954 - val_loss: 1.7503 - val_accuracy: 0.4000\n",
      "Epoch 7/100\n",
      "17/17 [==============================] - 2s 101ms/step - loss: 1.7546 - accuracy: 0.2898 - val_loss: 1.7407 - val_accuracy: 0.4167\n",
      "Epoch 8/100\n",
      "17/17 [==============================] - 2s 106ms/step - loss: 1.7438 - accuracy: 0.3296 - val_loss: 1.7272 - val_accuracy: 0.4083\n",
      "Epoch 9/100\n",
      "17/17 [==============================] - 2s 101ms/step - loss: 1.7307 - accuracy: 0.3519 - val_loss: 1.7111 - val_accuracy: 0.4167\n",
      "Epoch 10/100\n",
      "17/17 [==============================] - 2s 106ms/step - loss: 1.7154 - accuracy: 0.3796 - val_loss: 1.6950 - val_accuracy: 0.3500\n",
      "Epoch 11/100\n",
      "17/17 [==============================] - 2s 106ms/step - loss: 1.6989 - accuracy: 0.3472 - val_loss: 1.6799 - val_accuracy: 0.3417\n",
      "Epoch 12/100\n",
      "17/17 [==============================] - 2s 100ms/step - loss: 1.6801 - accuracy: 0.3611 - val_loss: 1.6608 - val_accuracy: 0.3083\n",
      "Epoch 13/100\n",
      "17/17 [==============================] - 2s 106ms/step - loss: 1.6589 - accuracy: 0.3796 - val_loss: 1.6364 - val_accuracy: 0.3250\n",
      "Epoch 14/100\n",
      "17/17 [==============================] - 2s 101ms/step - loss: 1.6345 - accuracy: 0.4065 - val_loss: 1.6076 - val_accuracy: 0.3750\n",
      "Epoch 15/100\n",
      "17/17 [==============================] - 2s 100ms/step - loss: 1.6087 - accuracy: 0.4241 - val_loss: 1.5819 - val_accuracy: 0.3833\n",
      "Epoch 16/100\n",
      "17/17 [==============================] - 2s 106ms/step - loss: 1.5823 - accuracy: 0.4389 - val_loss: 1.5525 - val_accuracy: 0.3917\n",
      "Epoch 17/100\n",
      "17/17 [==============================] - 2s 106ms/step - loss: 1.5522 - accuracy: 0.4639 - val_loss: 1.5208 - val_accuracy: 0.4417\n",
      "Epoch 18/100\n",
      "17/17 [==============================] - 2s 106ms/step - loss: 1.5211 - accuracy: 0.4833 - val_loss: 1.4915 - val_accuracy: 0.4583\n",
      "Epoch 19/100\n",
      "17/17 [==============================] - 2s 106ms/step - loss: 1.4891 - accuracy: 0.4981 - val_loss: 1.4595 - val_accuracy: 0.4833\n",
      "Epoch 20/100\n",
      "17/17 [==============================] - 2s 106ms/step - loss: 1.4551 - accuracy: 0.5139 - val_loss: 1.4246 - val_accuracy: 0.5000\n",
      "Epoch 21/100\n",
      "17/17 [==============================] - 2s 106ms/step - loss: 1.4214 - accuracy: 0.5278 - val_loss: 1.3931 - val_accuracy: 0.5250\n",
      "Epoch 22/100\n",
      "17/17 [==============================] - 2s 106ms/step - loss: 1.3869 - accuracy: 0.5444 - val_loss: 1.3611 - val_accuracy: 0.5083\n",
      "Epoch 23/100\n",
      "17/17 [==============================] - 2s 106ms/step - loss: 1.3510 - accuracy: 0.5722 - val_loss: 1.3291 - val_accuracy: 0.5500\n",
      "Epoch 24/100\n",
      "17/17 [==============================] - 2s 111ms/step - loss: 1.3149 - accuracy: 0.5852 - val_loss: 1.2947 - val_accuracy: 0.5667\n",
      "Epoch 25/100\n",
      "17/17 [==============================] - 2s 106ms/step - loss: 1.2797 - accuracy: 0.6056 - val_loss: 1.2611 - val_accuracy: 0.6083\n",
      "Epoch 26/100\n",
      "17/17 [==============================] - 2s 106ms/step - loss: 1.2448 - accuracy: 0.6241 - val_loss: 1.2278 - val_accuracy: 0.6167\n",
      "Epoch 27/100\n",
      "17/17 [==============================] - 2s 105ms/step - loss: 1.2091 - accuracy: 0.6435 - val_loss: 1.1928 - val_accuracy: 0.6417\n",
      "Epoch 28/100\n",
      "17/17 [==============================] - 2s 101ms/step - loss: 1.1751 - accuracy: 0.6546 - val_loss: 1.1627 - val_accuracy: 0.6667\n",
      "Epoch 29/100\n",
      "17/17 [==============================] - 2s 107ms/step - loss: 1.1423 - accuracy: 0.6657 - val_loss: 1.1332 - val_accuracy: 0.6667\n",
      "Epoch 30/100\n",
      "17/17 [==============================] - 2s 107ms/step - loss: 1.1094 - accuracy: 0.6759 - val_loss: 1.1028 - val_accuracy: 0.6583\n",
      "Epoch 31/100\n",
      "17/17 [==============================] - 2s 101ms/step - loss: 1.0794 - accuracy: 0.6870 - val_loss: 1.0748 - val_accuracy: 0.6667\n",
      "Epoch 32/100\n",
      "17/17 [==============================] - 2s 106ms/step - loss: 1.0502 - accuracy: 0.6991 - val_loss: 1.0472 - val_accuracy: 0.6833\n",
      "Epoch 33/100\n",
      "17/17 [==============================] - 2s 106ms/step - loss: 1.0220 - accuracy: 0.7065 - val_loss: 1.0202 - val_accuracy: 0.6917\n",
      "Epoch 34/100\n",
      "17/17 [==============================] - 2s 107ms/step - loss: 0.9943 - accuracy: 0.7130 - val_loss: 0.9933 - val_accuracy: 0.7000\n",
      "Epoch 35/100\n",
      "17/17 [==============================] - 2s 106ms/step - loss: 0.9692 - accuracy: 0.7157 - val_loss: 0.9699 - val_accuracy: 0.7083\n",
      "Epoch 36/100\n",
      "17/17 [==============================] - 2s 111ms/step - loss: 0.9431 - accuracy: 0.7250 - val_loss: 0.9440 - val_accuracy: 0.7250\n",
      "Epoch 37/100\n",
      "17/17 [==============================] - 2s 107ms/step - loss: 0.9182 - accuracy: 0.7361 - val_loss: 0.9205 - val_accuracy: 0.7167\n",
      "Epoch 38/100\n",
      "17/17 [==============================] - 2s 105ms/step - loss: 0.8954 - accuracy: 0.7407 - val_loss: 0.8980 - val_accuracy: 0.7083\n",
      "Epoch 39/100\n",
      "17/17 [==============================] - 2s 111ms/step - loss: 0.8739 - accuracy: 0.7444 - val_loss: 0.8764 - val_accuracy: 0.7167\n",
      "Epoch 40/100\n",
      "17/17 [==============================] - 2s 106ms/step - loss: 0.8529 - accuracy: 0.7519 - val_loss: 0.8558 - val_accuracy: 0.7250\n",
      "Epoch 41/100\n",
      "17/17 [==============================] - 2s 107ms/step - loss: 0.8333 - accuracy: 0.7583 - val_loss: 0.8365 - val_accuracy: 0.7250\n",
      "Epoch 42/100\n",
      "17/17 [==============================] - 2s 106ms/step - loss: 0.8146 - accuracy: 0.7639 - val_loss: 0.8178 - val_accuracy: 0.7333\n",
      "Epoch 43/100\n",
      "17/17 [==============================] - 2s 106ms/step - loss: 0.7970 - accuracy: 0.7574 - val_loss: 0.8006 - val_accuracy: 0.7417\n",
      "Epoch 44/100\n",
      "17/17 [==============================] - 2s 106ms/step - loss: 0.7807 - accuracy: 0.7611 - val_loss: 0.7834 - val_accuracy: 0.7333\n",
      "Epoch 45/100\n",
      "17/17 [==============================] - 2s 112ms/step - loss: 0.7643 - accuracy: 0.7648 - val_loss: 0.7678 - val_accuracy: 0.7333\n",
      "Epoch 46/100\n",
      "17/17 [==============================] - 2s 106ms/step - loss: 0.7491 - accuracy: 0.7685 - val_loss: 0.7524 - val_accuracy: 0.7417\n",
      "Epoch 47/100\n",
      "17/17 [==============================] - 2s 106ms/step - loss: 0.7344 - accuracy: 0.7741 - val_loss: 0.7384 - val_accuracy: 0.7500\n",
      "Epoch 48/100\n",
      "17/17 [==============================] - 2s 106ms/step - loss: 0.7205 - accuracy: 0.7787 - val_loss: 0.7251 - val_accuracy: 0.7500\n",
      "Epoch 49/100\n",
      "17/17 [==============================] - 2s 101ms/step - loss: 0.7071 - accuracy: 0.7787 - val_loss: 0.7122 - val_accuracy: 0.7583\n",
      "Epoch 50/100\n",
      "17/17 [==============================] - 2s 106ms/step - loss: 0.6942 - accuracy: 0.7796 - val_loss: 0.6999 - val_accuracy: 0.7500\n",
      "Epoch 51/100\n",
      "17/17 [==============================] - 2s 106ms/step - loss: 0.6821 - accuracy: 0.7833 - val_loss: 0.6877 - val_accuracy: 0.7583\n",
      "Epoch 52/100\n",
      "17/17 [==============================] - 2s 106ms/step - loss: 0.6703 - accuracy: 0.7824 - val_loss: 0.6757 - val_accuracy: 0.7667\n",
      "Epoch 53/100\n",
      "17/17 [==============================] - 2s 106ms/step - loss: 0.6588 - accuracy: 0.7861 - val_loss: 0.6643 - val_accuracy: 0.7667\n",
      "Epoch 54/100\n",
      "17/17 [==============================] - 2s 106ms/step - loss: 0.6484 - accuracy: 0.7926 - val_loss: 0.6540 - val_accuracy: 0.7750\n",
      "Epoch 55/100\n",
      "17/17 [==============================] - 2s 100ms/step - loss: 0.6383 - accuracy: 0.7917 - val_loss: 0.6444 - val_accuracy: 0.7833\n",
      "Epoch 56/100\n",
      "17/17 [==============================] - 2s 100ms/step - loss: 0.6285 - accuracy: 0.7944 - val_loss: 0.6346 - val_accuracy: 0.7833\n",
      "Epoch 57/100\n",
      "17/17 [==============================] - 2s 106ms/step - loss: 0.6191 - accuracy: 0.7972 - val_loss: 0.6255 - val_accuracy: 0.7917\n",
      "Epoch 58/100\n",
      "17/17 [==============================] - 2s 106ms/step - loss: 0.6099 - accuracy: 0.8000 - val_loss: 0.6170 - val_accuracy: 0.7917\n",
      "Epoch 59/100\n",
      "17/17 [==============================] - 2s 100ms/step - loss: 0.6012 - accuracy: 0.8000 - val_loss: 0.6083 - val_accuracy: 0.8000\n",
      "Epoch 60/100\n",
      "17/17 [==============================] - 2s 106ms/step - loss: 0.5924 - accuracy: 0.8028 - val_loss: 0.5998 - val_accuracy: 0.8000\n",
      "Epoch 61/100\n",
      "17/17 [==============================] - 2s 102ms/step - loss: 0.5843 - accuracy: 0.8056 - val_loss: 0.5922 - val_accuracy: 0.8000\n",
      "Epoch 62/100\n",
      "17/17 [==============================] - 2s 99ms/step - loss: 0.5765 - accuracy: 0.8065 - val_loss: 0.5847 - val_accuracy: 0.8000\n",
      "Epoch 63/100\n",
      "17/17 [==============================] - 2s 107ms/step - loss: 0.5687 - accuracy: 0.8102 - val_loss: 0.5764 - val_accuracy: 0.8000\n",
      "Epoch 64/100\n",
      "17/17 [==============================] - 2s 105ms/step - loss: 0.5613 - accuracy: 0.8148 - val_loss: 0.5694 - val_accuracy: 0.8000\n",
      "Epoch 65/100\n",
      "17/17 [==============================] - 2s 111ms/step - loss: 0.5543 - accuracy: 0.8176 - val_loss: 0.5629 - val_accuracy: 0.8083\n",
      "Epoch 66/100\n",
      "17/17 [==============================] - 2s 106ms/step - loss: 0.5476 - accuracy: 0.8213 - val_loss: 0.5563 - val_accuracy: 0.8167\n",
      "Epoch 67/100\n",
      "17/17 [==============================] - 2s 106ms/step - loss: 0.5407 - accuracy: 0.8222 - val_loss: 0.5503 - val_accuracy: 0.8250\n",
      "Epoch 68/100\n",
      "17/17 [==============================] - 2s 105ms/step - loss: 0.5344 - accuracy: 0.8250 - val_loss: 0.5447 - val_accuracy: 0.8417\n",
      "Epoch 69/100\n",
      "17/17 [==============================] - 2s 106ms/step - loss: 0.5283 - accuracy: 0.8259 - val_loss: 0.5389 - val_accuracy: 0.8417\n",
      "Epoch 70/100\n",
      "17/17 [==============================] - 2s 111ms/step - loss: 0.5223 - accuracy: 0.8278 - val_loss: 0.5337 - val_accuracy: 0.8417\n",
      "Epoch 71/100\n",
      "17/17 [==============================] - 2s 106ms/step - loss: 0.5163 - accuracy: 0.8306 - val_loss: 0.5284 - val_accuracy: 0.8417\n",
      "Epoch 72/100\n",
      "17/17 [==============================] - 2s 106ms/step - loss: 0.5108 - accuracy: 0.8315 - val_loss: 0.5230 - val_accuracy: 0.8500\n",
      "Epoch 73/100\n",
      "17/17 [==============================] - 2s 106ms/step - loss: 0.5055 - accuracy: 0.8343 - val_loss: 0.5178 - val_accuracy: 0.8500\n",
      "Epoch 74/100\n",
      "17/17 [==============================] - 2s 111ms/step - loss: 0.5003 - accuracy: 0.8361 - val_loss: 0.5128 - val_accuracy: 0.8500\n",
      "Epoch 75/100\n",
      "17/17 [==============================] - 2s 111ms/step - loss: 0.4953 - accuracy: 0.8352 - val_loss: 0.5076 - val_accuracy: 0.8500\n",
      "Epoch 76/100\n",
      "17/17 [==============================] - 2s 106ms/step - loss: 0.4901 - accuracy: 0.8361 - val_loss: 0.5029 - val_accuracy: 0.8500\n",
      "Epoch 77/100\n",
      "17/17 [==============================] - 2s 107ms/step - loss: 0.4849 - accuracy: 0.8398 - val_loss: 0.4985 - val_accuracy: 0.8500\n",
      "Epoch 78/100\n",
      "17/17 [==============================] - 2s 106ms/step - loss: 0.4800 - accuracy: 0.8435 - val_loss: 0.4940 - val_accuracy: 0.8583\n",
      "Epoch 79/100\n",
      "17/17 [==============================] - 2s 106ms/step - loss: 0.4753 - accuracy: 0.8444 - val_loss: 0.4894 - val_accuracy: 0.8500\n",
      "Epoch 80/100\n",
      "17/17 [==============================] - 2s 106ms/step - loss: 0.4706 - accuracy: 0.8444 - val_loss: 0.4853 - val_accuracy: 0.8500\n",
      "Epoch 81/100\n",
      "17/17 [==============================] - 2s 105ms/step - loss: 0.4662 - accuracy: 0.8481 - val_loss: 0.4814 - val_accuracy: 0.8500\n",
      "Epoch 82/100\n",
      "17/17 [==============================] - 2s 107ms/step - loss: 0.4619 - accuracy: 0.8500 - val_loss: 0.4774 - val_accuracy: 0.8500\n",
      "Epoch 83/100\n",
      "17/17 [==============================] - 2s 106ms/step - loss: 0.4577 - accuracy: 0.8500 - val_loss: 0.4739 - val_accuracy: 0.8500\n",
      "Epoch 84/100\n",
      "17/17 [==============================] - 2s 104ms/step - loss: 0.4536 - accuracy: 0.8519 - val_loss: 0.4701 - val_accuracy: 0.8500\n",
      "Epoch 85/100\n",
      "17/17 [==============================] - 2s 106ms/step - loss: 0.4497 - accuracy: 0.8519 - val_loss: 0.4666 - val_accuracy: 0.8500\n",
      "Epoch 86/100\n",
      "17/17 [==============================] - 2s 106ms/step - loss: 0.4460 - accuracy: 0.8519 - val_loss: 0.4634 - val_accuracy: 0.8583\n",
      "Epoch 87/100\n",
      "17/17 [==============================] - 2s 107ms/step - loss: 0.4423 - accuracy: 0.8537 - val_loss: 0.4598 - val_accuracy: 0.8583\n",
      "Epoch 88/100\n",
      "17/17 [==============================] - 2s 106ms/step - loss: 0.4386 - accuracy: 0.8537 - val_loss: 0.4565 - val_accuracy: 0.8667\n",
      "Epoch 89/100\n",
      "17/17 [==============================] - 2s 101ms/step - loss: 0.4350 - accuracy: 0.8546 - val_loss: 0.4533 - val_accuracy: 0.8667\n",
      "Epoch 90/100\n",
      "17/17 [==============================] - 2s 106ms/step - loss: 0.4314 - accuracy: 0.8537 - val_loss: 0.4505 - val_accuracy: 0.8667\n",
      "Epoch 91/100\n",
      "17/17 [==============================] - 2s 100ms/step - loss: 0.4280 - accuracy: 0.8565 - val_loss: 0.4473 - val_accuracy: 0.8667\n",
      "Epoch 92/100\n",
      "17/17 [==============================] - 2s 100ms/step - loss: 0.4244 - accuracy: 0.8583 - val_loss: 0.4443 - val_accuracy: 0.8583\n",
      "Epoch 93/100\n",
      "17/17 [==============================] - 2s 106ms/step - loss: 0.4212 - accuracy: 0.8583 - val_loss: 0.4414 - val_accuracy: 0.8583\n",
      "Epoch 94/100\n",
      "17/17 [==============================] - 2s 101ms/step - loss: 0.4181 - accuracy: 0.8611 - val_loss: 0.4386 - val_accuracy: 0.8667\n",
      "Epoch 95/100\n",
      "17/17 [==============================] - 2s 106ms/step - loss: 0.4149 - accuracy: 0.8602 - val_loss: 0.4359 - val_accuracy: 0.8667\n",
      "Epoch 96/100\n",
      "17/17 [==============================] - 2s 100ms/step - loss: 0.4117 - accuracy: 0.8602 - val_loss: 0.4333 - val_accuracy: 0.8667\n",
      "Epoch 97/100\n",
      "17/17 [==============================] - 2s 100ms/step - loss: 0.4084 - accuracy: 0.8602 - val_loss: 0.4310 - val_accuracy: 0.8667\n",
      "Epoch 98/100\n",
      "17/17 [==============================] - 2s 101ms/step - loss: 0.4052 - accuracy: 0.8602 - val_loss: 0.4288 - val_accuracy: 0.8667\n",
      "Epoch 99/100\n",
      "17/17 [==============================] - 2s 102ms/step - loss: 0.4021 - accuracy: 0.8611 - val_loss: 0.4263 - val_accuracy: 0.8667\n",
      "Epoch 100/100\n",
      "17/17 [==============================] - 2s 106ms/step - loss: 0.3991 - accuracy: 0.8620 - val_loss: 0.4240 - val_accuracy: 0.8667\n"
     ]
    }
   ],
   "source": [
    "train_dataset = tf.data.Dataset.from_tensor_slices((X_train, Y_train)).batch(64)\n",
    "test_dataset = tf.data.Dataset.from_tensor_slices((X_test, Y_test)).batch(64)\n",
    "history = conv_model.fit(train_dataset, epochs=100, validation_data=test_dataset)"
   ]
  },
  {
   "cell_type": "markdown",
   "metadata": {},
   "source": [
    "<a name='5'></a>\n",
    "## 5 - History Object \n",
    "\n",
    "The history object is an output of the `.fit()` operation, and provides a record of all the loss and metric values in memory. It's stored as a dictionary that you can retrieve at `history.history`: "
   ]
  },
  {
   "cell_type": "code",
   "execution_count": 39,
   "metadata": {},
   "outputs": [
    {
     "data": {
      "text/plain": [
       "{'loss': [1.813368320465088,\n",
       "  1.786713719367981,\n",
       "  1.7809319496154785,\n",
       "  1.776210904121399,\n",
       "  1.7706876993179321,\n",
       "  1.7628984451293945,\n",
       "  1.7546114921569824,\n",
       "  1.7438266277313232,\n",
       "  1.7306550741195679,\n",
       "  1.7153698205947876,\n",
       "  1.6988962888717651,\n",
       "  1.6800531148910522,\n",
       "  1.6589311361312866,\n",
       "  1.634543538093567,\n",
       "  1.6086546182632446,\n",
       "  1.5823231935501099,\n",
       "  1.5522243976593018,\n",
       "  1.521112322807312,\n",
       "  1.4891424179077148,\n",
       "  1.4550732374191284,\n",
       "  1.4214094877243042,\n",
       "  1.3868714570999146,\n",
       "  1.350975513458252,\n",
       "  1.3148677349090576,\n",
       "  1.2796618938446045,\n",
       "  1.244817852973938,\n",
       "  1.2091476917266846,\n",
       "  1.1750919818878174,\n",
       "  1.1422852277755737,\n",
       "  1.1094130277633667,\n",
       "  1.0793547630310059,\n",
       "  1.0501923561096191,\n",
       "  1.0220192670822144,\n",
       "  0.9942781925201416,\n",
       "  0.9691718220710754,\n",
       "  0.9431154131889343,\n",
       "  0.9181513786315918,\n",
       "  0.8954015970230103,\n",
       "  0.8739066123962402,\n",
       "  0.8528778553009033,\n",
       "  0.833288311958313,\n",
       "  0.8145694136619568,\n",
       "  0.7970161437988281,\n",
       "  0.7806520462036133,\n",
       "  0.764274537563324,\n",
       "  0.7491219639778137,\n",
       "  0.7343847751617432,\n",
       "  0.7205039858818054,\n",
       "  0.7071372866630554,\n",
       "  0.6942337155342102,\n",
       "  0.6821486949920654,\n",
       "  0.6702808737754822,\n",
       "  0.6588351130485535,\n",
       "  0.6484384536743164,\n",
       "  0.6383321285247803,\n",
       "  0.6285425424575806,\n",
       "  0.6191425323486328,\n",
       "  0.60991370677948,\n",
       "  0.6012013554573059,\n",
       "  0.5923572182655334,\n",
       "  0.5842818021774292,\n",
       "  0.5765336155891418,\n",
       "  0.5687043070793152,\n",
       "  0.5613073706626892,\n",
       "  0.5543127655982971,\n",
       "  0.5475512742996216,\n",
       "  0.5407142639160156,\n",
       "  0.5344495177268982,\n",
       "  0.5282561182975769,\n",
       "  0.5222787857055664,\n",
       "  0.51629239320755,\n",
       "  0.5108418464660645,\n",
       "  0.5055389404296875,\n",
       "  0.5003202557563782,\n",
       "  0.4952714741230011,\n",
       "  0.490098237991333,\n",
       "  0.4849311113357544,\n",
       "  0.47997283935546875,\n",
       "  0.475318968296051,\n",
       "  0.4705868065357208,\n",
       "  0.46615248918533325,\n",
       "  0.4618810713291168,\n",
       "  0.4577232897281647,\n",
       "  0.45359957218170166,\n",
       "  0.4497241973876953,\n",
       "  0.44602447748184204,\n",
       "  0.4422932267189026,\n",
       "  0.43857043981552124,\n",
       "  0.43500328063964844,\n",
       "  0.4313789904117584,\n",
       "  0.4280281364917755,\n",
       "  0.4244396686553955,\n",
       "  0.42121273279190063,\n",
       "  0.41814184188842773,\n",
       "  0.4149249196052551,\n",
       "  0.411682665348053,\n",
       "  0.4084016978740692,\n",
       "  0.4051567316055298,\n",
       "  0.40211641788482666,\n",
       "  0.3991468548774719],\n",
       " 'accuracy': [0.17037037014961243,\n",
       "  0.19166666269302368,\n",
       "  0.22592592239379883,\n",
       "  0.2351851910352707,\n",
       "  0.2805555462837219,\n",
       "  0.2953703701496124,\n",
       "  0.2898148000240326,\n",
       "  0.3296296298503876,\n",
       "  0.35185185074806213,\n",
       "  0.37962964177131653,\n",
       "  0.3472222089767456,\n",
       "  0.3611111044883728,\n",
       "  0.37962964177131653,\n",
       "  0.40648147463798523,\n",
       "  0.42407408356666565,\n",
       "  0.43888887763023376,\n",
       "  0.46388888359069824,\n",
       "  0.4833333194255829,\n",
       "  0.4981481432914734,\n",
       "  0.5138888955116272,\n",
       "  0.5277777910232544,\n",
       "  0.5444444417953491,\n",
       "  0.5722222328186035,\n",
       "  0.585185170173645,\n",
       "  0.605555534362793,\n",
       "  0.6240741014480591,\n",
       "  0.6435185074806213,\n",
       "  0.654629647731781,\n",
       "  0.6657407283782959,\n",
       "  0.6759259104728699,\n",
       "  0.6870370507240295,\n",
       "  0.6990740895271301,\n",
       "  0.7064814567565918,\n",
       "  0.7129629850387573,\n",
       "  0.7157407402992249,\n",
       "  0.7250000238418579,\n",
       "  0.7361111044883728,\n",
       "  0.7407407164573669,\n",
       "  0.7444444298744202,\n",
       "  0.7518518567085266,\n",
       "  0.7583333253860474,\n",
       "  0.7638888955116272,\n",
       "  0.7574074268341064,\n",
       "  0.7611111402511597,\n",
       "  0.7648147940635681,\n",
       "  0.7685185074806213,\n",
       "  0.7740740776062012,\n",
       "  0.7787036895751953,\n",
       "  0.7787036895751953,\n",
       "  0.779629647731781,\n",
       "  0.7833333611488342,\n",
       "  0.7824074029922485,\n",
       "  0.7861111164093018,\n",
       "  0.7925925850868225,\n",
       "  0.7916666865348816,\n",
       "  0.7944444417953491,\n",
       "  0.7972221970558167,\n",
       "  0.800000011920929,\n",
       "  0.800000011920929,\n",
       "  0.8027777671813965,\n",
       "  0.8055555820465088,\n",
       "  0.8064814805984497,\n",
       "  0.8101851940155029,\n",
       "  0.8148148059844971,\n",
       "  0.8175926208496094,\n",
       "  0.8212962746620178,\n",
       "  0.8222222328186035,\n",
       "  0.824999988079071,\n",
       "  0.8259259462356567,\n",
       "  0.8277778029441833,\n",
       "  0.8305555582046509,\n",
       "  0.8314814567565918,\n",
       "  0.8342592716217041,\n",
       "  0.8361111283302307,\n",
       "  0.835185170173645,\n",
       "  0.8361111283302307,\n",
       "  0.8398148417472839,\n",
       "  0.8435184955596924,\n",
       "  0.8444444537162781,\n",
       "  0.8444444537162781,\n",
       "  0.8481481671333313,\n",
       "  0.8500000238418579,\n",
       "  0.8500000238418579,\n",
       "  0.8518518805503845,\n",
       "  0.8518518805503845,\n",
       "  0.8518518805503845,\n",
       "  0.8537036776542664,\n",
       "  0.8537036776542664,\n",
       "  0.854629635810852,\n",
       "  0.8537036776542664,\n",
       "  0.8564814925193787,\n",
       "  0.8583333492279053,\n",
       "  0.8583333492279053,\n",
       "  0.8611111044883728,\n",
       "  0.8601852059364319,\n",
       "  0.8601852059364319,\n",
       "  0.8601852059364319,\n",
       "  0.8601852059364319,\n",
       "  0.8611111044883728,\n",
       "  0.8620370626449585],\n",
       " 'val_loss': [1.787523865699768,\n",
       "  1.7793627977371216,\n",
       "  1.773820400238037,\n",
       "  1.7682414054870605,\n",
       "  1.7598836421966553,\n",
       "  1.7502917051315308,\n",
       "  1.7406997680664062,\n",
       "  1.7272080183029175,\n",
       "  1.7111331224441528,\n",
       "  1.6950141191482544,\n",
       "  1.6799105405807495,\n",
       "  1.6608176231384277,\n",
       "  1.6364225149154663,\n",
       "  1.607621669769287,\n",
       "  1.5819001197814941,\n",
       "  1.5524964332580566,\n",
       "  1.5207802057266235,\n",
       "  1.4914815425872803,\n",
       "  1.4595328569412231,\n",
       "  1.4246494770050049,\n",
       "  1.3930516242980957,\n",
       "  1.361053228378296,\n",
       "  1.3290858268737793,\n",
       "  1.2946515083312988,\n",
       "  1.2610726356506348,\n",
       "  1.2278082370758057,\n",
       "  1.1928242444992065,\n",
       "  1.162725806236267,\n",
       "  1.1331562995910645,\n",
       "  1.1028233766555786,\n",
       "  1.0747591257095337,\n",
       "  1.047217607498169,\n",
       "  1.0202034711837769,\n",
       "  0.9932880401611328,\n",
       "  0.9698732495307922,\n",
       "  0.9440230131149292,\n",
       "  0.9205321073532104,\n",
       "  0.8979527950286865,\n",
       "  0.876439094543457,\n",
       "  0.855754554271698,\n",
       "  0.836470901966095,\n",
       "  0.8178029656410217,\n",
       "  0.8006386160850525,\n",
       "  0.7833951711654663,\n",
       "  0.7677847743034363,\n",
       "  0.7524096369743347,\n",
       "  0.738372266292572,\n",
       "  0.7251043319702148,\n",
       "  0.7121788859367371,\n",
       "  0.6999132633209229,\n",
       "  0.6876893639564514,\n",
       "  0.6756579279899597,\n",
       "  0.6642687916755676,\n",
       "  0.6540206074714661,\n",
       "  0.6444003582000732,\n",
       "  0.6346365213394165,\n",
       "  0.6254816651344299,\n",
       "  0.6169997453689575,\n",
       "  0.6083482503890991,\n",
       "  0.5998005270957947,\n",
       "  0.5922186374664307,\n",
       "  0.5847322940826416,\n",
       "  0.5764397978782654,\n",
       "  0.5694059133529663,\n",
       "  0.5629118084907532,\n",
       "  0.5563323497772217,\n",
       "  0.5503088235855103,\n",
       "  0.5447394251823425,\n",
       "  0.538949191570282,\n",
       "  0.5336706042289734,\n",
       "  0.5284427404403687,\n",
       "  0.5229623913764954,\n",
       "  0.5177614688873291,\n",
       "  0.5128030180931091,\n",
       "  0.5076088309288025,\n",
       "  0.5028641819953918,\n",
       "  0.4984509348869324,\n",
       "  0.4940475523471832,\n",
       "  0.48937055468559265,\n",
       "  0.485303670167923,\n",
       "  0.4814126193523407,\n",
       "  0.47744375467300415,\n",
       "  0.47386568784713745,\n",
       "  0.47008201479911804,\n",
       "  0.4665990173816681,\n",
       "  0.4633946716785431,\n",
       "  0.4597603678703308,\n",
       "  0.4564688503742218,\n",
       "  0.4532708525657654,\n",
       "  0.45047470927238464,\n",
       "  0.4472878873348236,\n",
       "  0.4443024694919586,\n",
       "  0.44143974781036377,\n",
       "  0.43855705857276917,\n",
       "  0.4358830153942108,\n",
       "  0.4333197772502899,\n",
       "  0.4310366213321686,\n",
       "  0.4287970960140228,\n",
       "  0.42630448937416077,\n",
       "  0.42396247386932373],\n",
       " 'val_accuracy': [0.19166666269302368,\n",
       "  0.20000000298023224,\n",
       "  0.2083333283662796,\n",
       "  0.23333333432674408,\n",
       "  0.36666667461395264,\n",
       "  0.4000000059604645,\n",
       "  0.4166666567325592,\n",
       "  0.40833333134651184,\n",
       "  0.4166666567325592,\n",
       "  0.3499999940395355,\n",
       "  0.34166666865348816,\n",
       "  0.3083333373069763,\n",
       "  0.32499998807907104,\n",
       "  0.375,\n",
       "  0.38333332538604736,\n",
       "  0.3916666805744171,\n",
       "  0.4416666626930237,\n",
       "  0.4583333432674408,\n",
       "  0.4833333194255829,\n",
       "  0.5,\n",
       "  0.5249999761581421,\n",
       "  0.5083333253860474,\n",
       "  0.550000011920929,\n",
       "  0.5666666626930237,\n",
       "  0.6083333492279053,\n",
       "  0.6166666746139526,\n",
       "  0.6416666507720947,\n",
       "  0.6666666865348816,\n",
       "  0.6666666865348816,\n",
       "  0.6583333611488342,\n",
       "  0.6666666865348816,\n",
       "  0.6833333373069763,\n",
       "  0.6916666626930237,\n",
       "  0.699999988079071,\n",
       "  0.7083333134651184,\n",
       "  0.7250000238418579,\n",
       "  0.7166666388511658,\n",
       "  0.7083333134651184,\n",
       "  0.7166666388511658,\n",
       "  0.7250000238418579,\n",
       "  0.7250000238418579,\n",
       "  0.7333333492279053,\n",
       "  0.7416666746139526,\n",
       "  0.7333333492279053,\n",
       "  0.7333333492279053,\n",
       "  0.7416666746139526,\n",
       "  0.75,\n",
       "  0.75,\n",
       "  0.7583333253860474,\n",
       "  0.75,\n",
       "  0.7583333253860474,\n",
       "  0.7666666507720947,\n",
       "  0.7666666507720947,\n",
       "  0.7749999761581421,\n",
       "  0.7833333611488342,\n",
       "  0.7833333611488342,\n",
       "  0.7916666865348816,\n",
       "  0.7916666865348816,\n",
       "  0.800000011920929,\n",
       "  0.800000011920929,\n",
       "  0.800000011920929,\n",
       "  0.800000011920929,\n",
       "  0.800000011920929,\n",
       "  0.800000011920929,\n",
       "  0.8083333373069763,\n",
       "  0.8166666626930237,\n",
       "  0.824999988079071,\n",
       "  0.8416666388511658,\n",
       "  0.8416666388511658,\n",
       "  0.8416666388511658,\n",
       "  0.8416666388511658,\n",
       "  0.8500000238418579,\n",
       "  0.8500000238418579,\n",
       "  0.8500000238418579,\n",
       "  0.8500000238418579,\n",
       "  0.8500000238418579,\n",
       "  0.8500000238418579,\n",
       "  0.8583333492279053,\n",
       "  0.8500000238418579,\n",
       "  0.8500000238418579,\n",
       "  0.8500000238418579,\n",
       "  0.8500000238418579,\n",
       "  0.8500000238418579,\n",
       "  0.8500000238418579,\n",
       "  0.8500000238418579,\n",
       "  0.8583333492279053,\n",
       "  0.8583333492279053,\n",
       "  0.8666666746139526,\n",
       "  0.8666666746139526,\n",
       "  0.8666666746139526,\n",
       "  0.8666666746139526,\n",
       "  0.8583333492279053,\n",
       "  0.8583333492279053,\n",
       "  0.8666666746139526,\n",
       "  0.8666666746139526,\n",
       "  0.8666666746139526,\n",
       "  0.8666666746139526,\n",
       "  0.8666666746139526,\n",
       "  0.8666666746139526,\n",
       "  0.8666666746139526]}"
      ]
     },
     "execution_count": 39,
     "metadata": {},
     "output_type": "execute_result"
    }
   ],
   "source": [
    "history.history"
   ]
  },
  {
   "cell_type": "markdown",
   "metadata": {},
   "source": [
    "Now visualize the loss over time using `history.history`: "
   ]
  },
  {
   "cell_type": "code",
   "execution_count": 40,
   "metadata": {},
   "outputs": [
    {
     "data": {
      "text/plain": [
       "[Text(0, 0.5, 'Accuracy'), Text(0.5, 0, 'Epoch')]"
      ]
     },
     "execution_count": 40,
     "metadata": {},
     "output_type": "execute_result"
    },
    {
     "data": {
      "image/png": "[encoded data removed]",
      "text/plain": [
       "<Figure size 864x576 with 1 Axes>"
      ]
     },
     "metadata": {
      "needs_background": "light"
     },
     "output_type": "display_data"
    },
    {
     "data": {
      "image/png": "[encoded data removed]",
      "text/plain": [
       "<Figure size 864x576 with 1 Axes>"
      ]
     },
     "metadata": {
      "needs_background": "light"
     },
     "output_type": "display_data"
    }
   ],
   "source": [
    "# The history.history[\"loss\"] entry is a dictionary with as many values as epochs that the\n",
    "# model was trained on. \n",
    "df_loss_acc = pd.DataFrame(history.history)\n",
    "df_loss= df_loss_acc[['loss','val_loss']]\n",
    "df_loss.rename(columns={'loss':'train','val_loss':'validation'},inplace=True)\n",
    "df_acc= df_loss_acc[['accuracy','val_accuracy']]\n",
    "df_acc.rename(columns={'accuracy':'train','val_accuracy':'validation'},inplace=True)\n",
    "df_loss.plot(title='Model loss',figsize=(12,8)).set(xlabel='Epoch',ylabel='Loss')\n",
    "df_acc.plot(title='Model Accuracy',figsize=(12,8)).set(xlabel='Epoch',ylabel='Accuracy')"
   ]
  },
  {
   "cell_type": "markdown",
   "metadata": {},
   "source": [
    "**Congratulations**! You've finished the assignment and built two models: One that recognizes  smiles, and another that recognizes SIGN language with almost 80% accuracy on the test set. In addition to that, you now also understand the applications of two Keras APIs: Sequential and Functional. Nicely done! \n",
    "\n",
    "By now, you know a bit about how the Functional API works and may have glimpsed the possibilities. In your next assignment, you'll really get a feel for its power when you get the opportunity to build a very deep ConvNet, using ResNets! "
   ]
  },
  {
   "cell_type": "markdown",
   "metadata": {},
   "source": [
    "<a name='6'></a>\n",
    "## 6 - Bibliography\n",
    "\n",
    "You're always encouraged to read the official documentation. To that end, you can find the docs for the Sequential and Functional APIs here: \n",
    "\n",
    "https://www.tensorflow.org/guide/keras/sequential_model\n",
    "\n",
    "https://www.tensorflow.org/guide/keras/functional"
   ]
  }
 ],
 "metadata": {
  "coursera": {
   "course_slug": "convolutional-neural-networks",
   "graded_item_id": "bwbJV",
   "launcher_item_id": "0TkXB"
  },
  "kernelspec": {
   "display_name": "Python 3",
   "language": "python",
   "name": "python3"
  },
  "language_info": {
   "codemirror_mode": {
    "name": "ipython",
    "version": 3
   },
   "file_extension": ".py",
   "mimetype": "text/x-python",
   "name": "python",
   "nbconvert_exporter": "python",
   "pygments_lexer": "ipython3",
   "version": "3.7.6"
  }
 },
 "nbformat": 4,
 "nbformat_minor": 2
}
